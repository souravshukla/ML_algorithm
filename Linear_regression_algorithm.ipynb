{
 "cells": [
  {
   "cell_type": "markdown",
   "metadata": {},
   "source": [
    "In this notebook, we have covered algorithm for multiple variable using the linear regression method.\n",
    "The following notebook contains the following:\n",
    "* Importing Libraries\n",
    "* Creating a function y = f(x), where x is independent variable and y is dependent variable. \n",
    "* A hypothesis function: h(theta,x)\n",
    "* A cost function\n",
    "* A gradient descent function\n",
    "* Creating a function for linear regression "
   ]
  },
  {
   "cell_type": "markdown",
   "metadata": {},
   "source": [
    "### Importing the libraries"
   ]
  },
  {
   "cell_type": "code",
   "execution_count": 2,
   "metadata": {},
   "outputs": [],
   "source": [
    "import numpy as np\n",
    "import matplotlib.pyplot as plt\n",
    "%matplotlib inline"
   ]
  },
  {
   "cell_type": "markdown",
   "metadata": {},
   "source": [
    "### Creating a function: y = f(x)"
   ]
  },
  {
   "cell_type": "code",
   "execution_count": 3,
   "metadata": {},
   "outputs": [],
   "source": [
    "x = np.random.rand(100,3)\n",
    "x = np.c_[np.ones(x.shape[0]),x]\n",
    "y = 4*x[:,0] + 3 * x[:,1] + 5 *x[:,2] + 6*x[:,3]"
   ]
  },
  {
   "cell_type": "code",
   "execution_count": 4,
   "metadata": {},
   "outputs": [],
   "source": [
    "y = y.reshape((100,1))"
   ]
  },
  {
   "cell_type": "code",
   "execution_count": 5,
   "metadata": {},
   "outputs": [
    {
     "data": {
      "text/plain": [
       "array([[1.        , 0.76561806, 0.87443438, 0.97038149],\n",
       "       [1.        , 0.65528989, 0.08386985, 0.96532448],\n",
       "       [1.        , 0.66801751, 0.41479689, 0.69484028],\n",
       "       [1.        , 0.18554315, 0.21448508, 0.25224428],\n",
       "       [1.        , 0.02024445, 0.80911238, 0.45513144]])"
      ]
     },
     "execution_count": 5,
     "metadata": {},
     "output_type": "execute_result"
    }
   ],
   "source": [
    "x[:5,:]"
   ]
  },
  {
   "cell_type": "code",
   "execution_count": 7,
   "metadata": {},
   "outputs": [
    {
     "data": {
      "text/plain": [
       "array([[16.49131502],\n",
       "       [12.17716581],\n",
       "       [12.24707863],\n",
       "       [ 7.14252055],\n",
       "       [10.83708386]])"
      ]
     },
     "execution_count": 7,
     "metadata": {},
     "output_type": "execute_result"
    }
   ],
   "source": [
    "y[:5]"
   ]
  },
  {
   "cell_type": "markdown",
   "metadata": {},
   "source": [
    "### Defining function: \n",
    "1. Hypothesis\n",
    "2. mse_cost\n",
    "3. gradient_descent"
   ]
  },
  {
   "cell_type": "code",
   "execution_count": 8,
   "metadata": {},
   "outputs": [],
   "source": [
    "def hypothesis(theta,X):\n",
    "    return np.dot(X, theta)"
   ]
  },
  {
   "cell_type": "code",
   "execution_count": 13,
   "metadata": {},
   "outputs": [],
   "source": [
    "def mse_cost(theta,X,y):\n",
    "    m = X.shape[0]\n",
    "    return float(np.dot((hypothesis(theta,X) - y).T ,(hypothesis(theta,X) - y)) / (2* m))"
   ]
  },
  {
   "cell_type": "code",
   "execution_count": 14,
   "metadata": {},
   "outputs": [],
   "source": [
    "def gradient_descent(X, y, learning_rate, n_iteration):\n",
    "    m = X.shape[0]\n",
    "    print(\"Total number of Training set: \",m)\n",
    "    \n",
    "    theta = np.random.rand(4,1)\n",
    "    print(\"Initial theta value:\\n\",theta)\n",
    "    \n",
    "    cost_function = []\n",
    "    \n",
    "    for i in range(n_iteration):\n",
    "        cost_function.append(mse_cost(theta,X,y))\n",
    "        gradient = 2 * np.dot(X.T,hypothesis(theta,X)-y)/m\n",
    "        temp = theta - learning_rate * gradient\n",
    "        theta = temp\n",
    "     \n",
    "    print(\"Final Theta value:\\n\", theta)\n",
    "    \n",
    "    return theta,cost_function"
   ]
  },
  {
   "cell_type": "code",
   "execution_count": 15,
   "metadata": {},
   "outputs": [],
   "source": [
    "def linear_reg(X,y,alpha,cycles):\n",
    "    '''This is a simple model used to demonstrate the Linear Regression model \n",
    "    \n",
    "    Parameters:\n",
    "    \n",
    "    X : Input values in array \n",
    "    y : Target/dependent value in array\n",
    "    \n",
    "    return:\n",
    "    \n",
    "    theta : array\n",
    "    cost_function : This is a mean square error. \n",
    "    \n",
    "    '''\n",
    "    \n",
    "    theta, cost_function = gradient_descent(X,y,alpha,cycles)    \n",
    "    \n",
    "    return theta, cost_function"
   ]
  },
  {
   "cell_type": "code",
   "execution_count": 16,
   "metadata": {},
   "outputs": [
    {
     "name": "stdout",
     "output_type": "stream",
     "text": [
      "Total number of Training set:  100\n",
      "Initial theta value:\n",
      " [[0.67217201]\n",
      " [0.73611024]\n",
      " [0.04381132]\n",
      " [0.72608797]]\n",
      "Final Theta value:\n",
      " [[4.00005991]\n",
      " [2.99996043]\n",
      " [4.99996021]\n",
      " [5.99996105]]\n"
     ]
    }
   ],
   "source": [
    "t , c = linear_reg(X=x, y=y,alpha =  0.1, cycles = 1000)"
   ]
  },
  {
   "cell_type": "code",
   "execution_count": 17,
   "metadata": {},
   "outputs": [],
   "source": [
    "def lr_predict(X, theta):\n",
    "    y_pred = np.dot(X,theta)\n",
    "    return y_pred"
   ]
  },
  {
   "cell_type": "code",
   "execution_count": 18,
   "metadata": {},
   "outputs": [],
   "source": [
    "test_x = np.random.rand(1,3)\n",
    "test_x = np.c_[np.ones(test_x.shape[0]), test_x]"
   ]
  },
  {
   "cell_type": "code",
   "execution_count": 19,
   "metadata": {},
   "outputs": [
    {
     "data": {
      "text/plain": [
       "array([[6.21928009]])"
      ]
     },
     "execution_count": 19,
     "metadata": {},
     "output_type": "execute_result"
    }
   ],
   "source": [
    "predict_y = lr_predict(test_x,t)\n",
    "print(\"The predicted value of y:\", predict_y)"
   ]
  },
  {
   "cell_type": "code",
   "execution_count": 20,
   "metadata": {},
   "outputs": [
    {
     "data": {
      "text/plain": [
       "array([[6.21924445]])"
      ]
     },
     "execution_count": 20,
     "metadata": {},
     "output_type": "execute_result"
    }
   ],
   "source": [
    "from sklearn.linear_model import LinearRegression\n",
    "\n",
    "model = LinearRegression()\n",
    "model.fit(x,y)\n",
    "sk_y = model.predict(test_x)\n",
    "print(\"The predicted value of y:\", sk_y)"
   ]
  },
  {
   "cell_type": "code",
   "execution_count": 21,
   "metadata": {},
   "outputs": [
    {
     "data": {
      "text/plain": [
       "array([[0., 3., 5., 6.]])"
      ]
     },
     "execution_count": 21,
     "metadata": {},
     "output_type": "execute_result"
    }
   ],
   "source": [
    "model.coef_"
   ]
  },
  {
   "cell_type": "code",
   "execution_count": 22,
   "metadata": {},
   "outputs": [
    {
     "data": {
      "text/plain": [
       "array([4.])"
      ]
     },
     "execution_count": 22,
     "metadata": {},
     "output_type": "execute_result"
    }
   ],
   "source": [
    "model.intercept_"
   ]
  },
  {
   "cell_type": "code",
   "execution_count": 23,
   "metadata": {},
   "outputs": [
    {
     "data": {
      "image/png": "[encoded data removed]",
      "text/plain": [
       "<Figure size 432x288 with 1 Axes>"
      ]
     },
     "metadata": {
      "needs_background": "light"
     },
     "output_type": "display_data"
    }
   ],
   "source": [
    "plt.figure()\n",
    "plt.style.use('_classic_test_patch')\n",
    "plt.plot(range(len(c)),c)\n",
    "plt.xlabel('Number of iteration')\n",
    "plt.ylabel('MSE(theta,x) Cost function')\n",
    "plt.title('COST FUNCTION VS NUMBER OF ITERATION')\n",
    "plt.axis([0,60,0,1])\n",
    "plt.show()"
   ]
  },
  {
   "cell_type": "code",
   "execution_count": null,
   "metadata": {},
   "outputs": [],
   "source": []
  }
 ],
 "metadata": {
  "kernelspec": {
   "display_name": "Python 3",
   "language": "python",
   "name": "python3"
  },
  "language_info": {
   "codemirror_mode": {
    "name": "ipython",
    "version": 3
   },
   "file_extension": ".py",
   "mimetype": "text/x-python",
   "name": "python",
   "nbconvert_exporter": "python",
   "pygments_lexer": "ipython3",
   "version": "3.8.5"
  }
 },
 "nbformat": 4,
 "nbformat_minor": 4
}
