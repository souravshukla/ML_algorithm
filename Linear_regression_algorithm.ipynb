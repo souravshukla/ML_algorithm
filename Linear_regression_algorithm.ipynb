{
 "cells": [
  {
   "cell_type": "markdown",
   "metadata": {},
   "source": [
    "In this notebook, we have covered algorithm for multiple variable using the linear regression method.\n",
    "The following notebook contains the following:\n",
    "* Importing Libraries\n",
    "* Creating a function y = f(x), where x is independent variable and y is dependent variable. \n",
    "* A hypothesis function: h(theta,x)\n",
    "* A cost function\n",
    "* A gradient descent function\n",
    "* Creating a function for linear regression "
   ]
  },
  {
   "cell_type": "markdown",
   "metadata": {},
   "source": [
    "### Importing the libraries"
   ]
  },
  {
   "cell_type": "code",
   "execution_count": 52,
   "metadata": {},
   "outputs": [],
   "source": [
    "import numpy as np\n",
    "import matplotlib.pyplot as plt\n",
    "%matplotlib inline"
   ]
  },
  {
   "cell_type": "markdown",
   "metadata": {},
   "source": [
    "### Creating a function: y = f(x)"
   ]
  },
  {
   "cell_type": "code",
   "execution_count": 181,
   "metadata": {},
   "outputs": [],
   "source": [
    "x = np.random.rand(100,3)\n",
    "x = np.c_[np.ones(x.shape[0]),x]\n",
    "y = 4*x[:,0] + 3 * x[:,1] + 5 *x[:,2] + 6*x[:,3]"
   ]
  },
  {
   "cell_type": "code",
   "execution_count": 182,
   "metadata": {},
   "outputs": [],
   "source": [
    "y = y.reshape((100,1))"
   ]
  },
  {
   "cell_type": "markdown",
   "metadata": {},
   "source": [
    "### Defining function: \n",
    "1. Hypothesis\n",
    "2. mse_cost\n",
    "3. gradient_descent"
   ]
  },
  {
   "cell_type": "code",
   "execution_count": 56,
   "metadata": {},
   "outputs": [],
   "source": [
    "def hypothesis(theta,X):\n",
    "    return np.dot(X, theta)"
   ]
  },
  {
   "cell_type": "code",
   "execution_count": 75,
   "metadata": {},
   "outputs": [],
   "source": [
    "def mse_cost(theta,X,y):\n",
    "    \n",
    "    return float(np.dot((hypothesis(theta,X) - y).T ,(hypothesis(theta,X) - y)) / (2* m))"
   ]
  },
  {
   "cell_type": "code",
   "execution_count": 141,
   "metadata": {},
   "outputs": [],
   "source": [
    "def gradient_descent(X, y, learning_rate, n_iteration):\n",
    "    m = X.shape[0]\n",
    "    print(\"Total number of Training set: \",m)\n",
    "    \n",
    "    theta = np.random.rand(4,1)\n",
    "    print(\"Initial theta value:\\n\",theta)\n",
    "    \n",
    "    cost_function = []\n",
    "    \n",
    "    for i in range(n_iteration):\n",
    "        cost_function.append(mse_cost(theta,X,y))\n",
    "        gradient = 2 * np.dot(X.T,hypothesis(theta,X)-y)/m\n",
    "        temp = theta - learning_rate * gradient\n",
    "        theta = temp\n",
    "     \n",
    "    print(\"Final Theta value:\\n\", theta)\n",
    "    \n",
    "    return theta,cost_function"
   ]
  },
  {
   "cell_type": "code",
   "execution_count": 142,
   "metadata": {},
   "outputs": [],
   "source": [
    "def linear_reg(X,y,alpha,cycles):\n",
    "    '''This is a simple model used to demonstrate the Linear Regression model \n",
    "    \n",
    "    Parameters:\n",
    "    \n",
    "    X : Input values in array \n",
    "    y : Target/dependent value in array\n",
    "    \n",
    "    return:\n",
    "    \n",
    "    theta : array\n",
    "    cost_function : This is a mean square error. \n",
    "    \n",
    "    '''\n",
    "    \n",
    "    theta, cost_function = gradient_descent(X,y,alpha,cycles)    \n",
    "    \n",
    "    return theta, cost_function"
   ]
  },
  {
   "cell_type": "code",
   "execution_count": 183,
   "metadata": {},
   "outputs": [
    {
     "name": "stdout",
     "output_type": "stream",
     "text": [
      "Total number of Training set:  100\n",
      "Initial theta value:\n",
      " [[0.6241464 ]\n",
      " [0.87072353]\n",
      " [0.72142796]\n",
      " [0.78520535]]\n",
      "Final Theta value:\n",
      " [[4.00401694]\n",
      " [2.99725987]\n",
      " [4.99739737]\n",
      " [5.99739037]]\n"
     ]
    }
   ],
   "source": [
    "t , c = linear_reg(X=x, y=y,alpha =  0.1, cycles = 1000)"
   ]
  },
  {
   "cell_type": "code",
   "execution_count": 184,
   "metadata": {},
   "outputs": [],
   "source": [
    "def lr_predict(X, theta):\n",
    "    X = np.c_[np.ones(X.shape[0]), X]\n",
    "    y_pred = np.dot(X,theta)\n",
    "    print(X)\n",
    "    return y_pred"
   ]
  },
  {
   "cell_type": "code",
   "execution_count": 185,
   "metadata": {},
   "outputs": [],
   "source": [
    "test_x = np.random.rand(1,3)"
   ]
  },
  {
   "cell_type": "code",
   "execution_count": 186,
   "metadata": {},
   "outputs": [
    {
     "name": "stdout",
     "output_type": "stream",
     "text": [
      "[[1.         0.24042083 0.24184789 0.30662839]]\n"
     ]
    },
    {
     "data": {
      "text/plain": [
       "array([[7.77220081]])"
      ]
     },
     "execution_count": 186,
     "metadata": {},
     "output_type": "execute_result"
    }
   ],
   "source": [
    "lr_predict(test_x,t)"
   ]
  },
  {
   "cell_type": "code",
   "execution_count": 195,
   "metadata": {},
   "outputs": [
    {
     "data": {
      "image/png": "[encoded data removed]",
      "text/plain": [
       "<Figure size 640x480 with 1 Axes>"
      ]
     },
     "metadata": {},
     "output_type": "display_data"
    }
   ],
   "source": [
    "plt.figure()\n",
    "plt.style.use('_classic_test_patch')\n",
    "plt.plot(range(len(c)),c)\n",
    "plt.xlabel('Number of iteration')\n",
    "plt.ylabel('MSE(theta,x) Cost function')\n",
    "plt.title('COST FUNCTION VS NUMBER OF ITERATION')\n",
    "plt.axis([0,60,0,1])\n",
    "plt.show()"
   ]
  },
  {
   "cell_type": "code",
   "execution_count": 179,
   "metadata": {},
   "outputs": [
    {
     "data": {
      "text/plain": [
       "array([[9.89015918]])"
      ]
     },
     "execution_count": 179,
     "metadata": {},
     "output_type": "execute_result"
    }
   ],
   "source": [
    "from sklearn.linear_model import LinearRegression\n",
    "\n",
    "model = LinearRegression()\n",
    "model.fit(x,y)\n",
    "model.predict([[1.,0.52587612, 0.49020692, 0.31024937]])"
   ]
  },
  {
   "cell_type": "code",
   "execution_count": 173,
   "metadata": {},
   "outputs": [
    {
     "data": {
      "text/plain": [
       "array([[0., 3., 5., 6.]])"
      ]
     },
     "execution_count": 173,
     "metadata": {},
     "output_type": "execute_result"
    }
   ],
   "source": [
    "model.coef_"
   ]
  },
  {
   "cell_type": "code",
   "execution_count": 174,
   "metadata": {},
   "outputs": [
    {
     "data": {
      "text/plain": [
       "array([4.])"
      ]
     },
     "execution_count": 174,
     "metadata": {},
     "output_type": "execute_result"
    }
   ],
   "source": [
    "model.intercept_"
   ]
  },
  {
   "cell_type": "code",
   "execution_count": 196,
   "metadata": {},
   "outputs": [
    {
     "data": {
      "text/plain": [
       "array([[7.77027228]])"
      ]
     },
     "execution_count": 196,
     "metadata": {},
     "output_type": "execute_result"
    }
   ],
   "source": [
    "model.predict([[1. ,0.24042083, 0.24184789, 0.30662839]])"
   ]
  },
  {
   "cell_type": "code",
   "execution_count": null,
   "metadata": {},
   "outputs": [],
   "source": []
  }
 ],
 "metadata": {
  "kernelspec": {
   "display_name": "Python 3",
   "language": "python",
   "name": "python3"
  },
  "language_info": {
   "codemirror_mode": {
    "name": "ipython",
    "version": 3
   },
   "file_extension": ".py",
   "mimetype": "text/x-python",
   "name": "python",
   "nbconvert_exporter": "python",
   "pygments_lexer": "ipython3",
   "version": "3.8.5"
  }
 },
 "nbformat": 4,
 "nbformat_minor": 4
}
